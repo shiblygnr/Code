{
 "cells": [
  {
   "cell_type": "code",
   "execution_count": 1,
   "metadata": {},
   "outputs": [
    {
     "name": "stderr",
     "output_type": "stream",
     "text": [
      "Using TensorFlow backend.\n"
     ]
    }
   ],
   "source": [
    "from keras.models import Sequential\n",
    "from keras.layers import Dense\n",
    "from keras.layers import Dropout\n",
    "from keras.layers import Flatten\n",
    "from keras.layers.convolutional import Conv2D\n",
    "from keras.layers.convolutional import MaxPooling2D\n",
    "from keras import backend as K\n",
    "from keras.utils import np_utils\n",
    "from sklearn.model_selection import train_test_split\n",
    "from sklearn.preprocessing import MinMaxScaler\n",
    "import numpy as np\n",
    "import pandas as pd "
   ]
  },
  {
   "cell_type": "code",
   "execution_count": 2,
   "metadata": {},
   "outputs": [],
   "source": [
    "import os\n",
    "import glob"
   ]
  },
  {
   "cell_type": "code",
   "execution_count": 15,
   "metadata": {},
   "outputs": [],
   "source": [
    "os.chdir(\"D:\\CSE497\\Ekush\\ekushCSV\\Combined\")"
   ]
  },
  {
   "cell_type": "code",
   "execution_count": 16,
   "metadata": {},
   "outputs": [],
   "source": [
    "extension = 'csv'\n",
    "all_filenames = [i for i in glob.glob('*.{}'.format(extension))]"
   ]
  },
  {
   "cell_type": "code",
   "execution_count": 17,
   "metadata": {},
   "outputs": [],
   "source": [
    "#combine all files in the list\n",
    "combined_csv = pd.concat([pd.read_csv(f) for f in all_filenames ])\n",
    "#export to csv\n",
    "combined_csv.to_csv( \"combined_csv.csv\", index=False, encoding='utf-8-sig')"
   ]
  },
  {
   "cell_type": "code",
   "execution_count": 18,
   "metadata": {},
   "outputs": [
    {
     "name": "stdout",
     "output_type": "stream",
     "text": [
      "(153281, 785)\n"
     ]
    }
   ],
   "source": [
    "data = pd.read_csv(r'D:\\CSE497\\Ekush\\ekushCSV\\Combined\\combined_csv.csv')\n",
    "print(data.shape) # (372451, 785)"
   ]
  },
  {
   "cell_type": "code",
   "execution_count": 19,
   "metadata": {},
   "outputs": [],
   "source": [
    "X = data.drop('label',axis = 1)\n",
    "y = data['label']"
   ]
  },
  {
   "cell_type": "code",
   "execution_count": 20,
   "metadata": {},
   "outputs": [],
   "source": [
    "(X_train, X_test, Y_train, Y_test) = train_test_split(X, y)\n",
    "standard_scaler = MinMaxScaler()\n",
    "standard_scaler.fit(X_train)\n",
    "X_train = standard_scaler.transform(X_train)\n",
    "X_test = standard_scaler.transform(X_test)\n",
    "X_train = X_train.reshape((X_train.shape[0], 28, 28, 1)).astype('uint8')\n",
    "X_test = X_test.reshape((X_test.shape[0], 28, 28, 1)).astype('uint8')"
   ]
  },
  {
   "cell_type": "code",
   "execution_count": 21,
   "metadata": {},
   "outputs": [
    {
     "name": "stdout",
     "output_type": "stream",
     "text": [
      "(38321, 60)\n"
     ]
    }
   ],
   "source": [
    "Y_train = np_utils.to_categorical(Y_train)\n",
    "Y_test = np_utils.to_categorical(Y_test)\n",
    "print(Y_test.shape) # (122909, 26)"
   ]
  },
  {
   "cell_type": "code",
   "execution_count": 23,
   "metadata": {},
   "outputs": [
    {
     "name": "stdout",
     "output_type": "stream",
     "text": [
      "Model: \"sequential_5\"\n",
      "_________________________________________________________________\n",
      "Layer (type)                 Output Shape              Param #   \n",
      "=================================================================\n",
      "conv2d_19 (Conv2D)           (None, 28, 28, 32)        832       \n",
      "_________________________________________________________________\n",
      "conv2d_20 (Conv2D)           (None, 28, 28, 32)        25632     \n",
      "_________________________________________________________________\n",
      "max_pooling2d_10 (MaxPooling (None, 14, 14, 32)        0         \n",
      "_________________________________________________________________\n",
      "conv2d_21 (Conv2D)           (None, 14, 14, 64)        51264     \n",
      "_________________________________________________________________\n",
      "conv2d_22 (Conv2D)           (None, 14, 14, 64)        102464    \n",
      "_________________________________________________________________\n",
      "max_pooling2d_11 (MaxPooling (None, 7, 7, 64)          0         \n",
      "_________________________________________________________________\n",
      "conv2d_23 (Conv2D)           (None, 7, 7, 128)         73856     \n",
      "_________________________________________________________________\n",
      "conv2d_24 (Conv2D)           (None, 7, 7, 128)         147584    \n",
      "_________________________________________________________________\n",
      "max_pooling2d_12 (MaxPooling (None, 3, 3, 128)         0         \n",
      "_________________________________________________________________\n",
      "dropout_5 (Dropout)          (None, 3, 3, 128)         0         \n",
      "_________________________________________________________________\n",
      "flatten_5 (Flatten)          (None, 1152)              0         \n",
      "_________________________________________________________________\n",
      "dense_9 (Dense)              (None, 128)               147584    \n",
      "_________________________________________________________________\n",
      "dense_10 (Dense)             (None, 60)                7740      \n",
      "=================================================================\n",
      "Total params: 556,956\n",
      "Trainable params: 556,956\n",
      "Non-trainable params: 0\n",
      "_________________________________________________________________\n"
     ]
    }
   ],
   "source": [
    "model = Sequential()\n",
    "\n",
    "model.add(Conv2D(32, (5, 5), input_shape=(28, 28, 1), activation='relu', data_format=\"channels_last\", padding=\"same\"))\n",
    "model.add(Conv2D(32, (5, 5), input_shape=(28, 28, 1), activation='relu', data_format=\"channels_last\", padding=\"same\"))\n",
    "model.add(MaxPooling2D(pool_size=(2, 2)))\n",
    "\n",
    "model.add(Conv2D(64, (5, 5), input_shape=(28, 28, 1), activation='relu', data_format=\"channels_last\", padding=\"same\"))\n",
    "model.add(Conv2D(64, (5, 5), input_shape=(28, 28, 1), activation='relu', data_format=\"channels_last\", padding=\"same\"))\n",
    "model.add(MaxPooling2D(pool_size=(2, 2)))\n",
    "\n",
    "model.add(Conv2D(128, (3, 3), activation='relu', data_format=\"channels_last\", padding=\"same\"))\n",
    "model.add(Conv2D(128, (3, 3), activation='relu', data_format=\"channels_last\", padding=\"same\"))\n",
    "model.add(MaxPooling2D(pool_size=(2, 2)))\n",
    "\n",
    "model.add(Dropout(0.2))\n",
    "\n",
    "model.add(Flatten())\n",
    "model.add(Dense(128, activation='relu'))\n",
    "model.add(Dense(60, activation='softmax'))\n",
    "\n",
    "model.compile(loss='categorical_crossentropy', optimizer='adam', metrics=['accuracy'])\n",
    "model.summary()"
   ]
  },
  {
   "cell_type": "code",
   "execution_count": 27,
   "metadata": {},
   "outputs": [
    {
     "name": "stdout",
     "output_type": "stream",
     "text": [
      "Train on 114960 samples, validate on 38321 samples\n",
      "Epoch 1/30\n",
      "114960/114960 [==============================] - 884s 8ms/step - loss: 1.0694 - accuracy: 0.6997 - val_loss: 0.6347 - val_accuracy: 0.8176\n",
      "Epoch 2/30\n",
      "114960/114960 [==============================] - 882s 8ms/step - loss: 0.5622 - accuracy: 0.8390 - val_loss: 0.5137 - val_accuracy: 0.8544\n",
      "Epoch 3/30\n",
      "114960/114960 [==============================] - 870s 8ms/step - loss: 0.4681 - accuracy: 0.8649 - val_loss: 0.4726 - val_accuracy: 0.8666\n",
      "Epoch 4/30\n",
      "114960/114960 [==============================] - 869s 8ms/step - loss: 0.4100 - accuracy: 0.8806 - val_loss: 0.4649 - val_accuracy: 0.8704\n",
      "Epoch 5/30\n",
      "114960/114960 [==============================] - 869s 8ms/step - loss: 0.3683 - accuracy: 0.8927 - val_loss: 0.4841 - val_accuracy: 0.8666\n",
      "Epoch 6/30\n",
      "114960/114960 [==============================] - 869s 8ms/step - loss: 0.3316 - accuracy: 0.9023 - val_loss: 0.4461 - val_accuracy: 0.8762\n",
      "Epoch 7/30\n",
      "114960/114960 [==============================] - 1026s 9ms/step - loss: 0.2982 - accuracy: 0.9114 - val_loss: 0.4583 - val_accuracy: 0.8791\n",
      "Epoch 8/30\n",
      "114960/114960 [==============================] - 1549s 13ms/step - loss: 0.2734 - accuracy: 0.9181 - val_loss: 0.4715 - val_accuracy: 0.8758\n",
      "Epoch 9/30\n",
      "114960/114960 [==============================] - 1541s 13ms/step - loss: 0.2485 - accuracy: 0.9256 - val_loss: 0.4868 - val_accuracy: 0.8782\n",
      "Epoch 10/30\n",
      "114960/114960 [==============================] - 1169s 10ms/step - loss: 0.2291 - accuracy: 0.9300 - val_loss: 0.4958 - val_accuracy: 0.8757\n",
      "Epoch 11/30\n",
      "114960/114960 [==============================] - 872s 8ms/step - loss: 0.2114 - accuracy: 0.9342 - val_loss: 0.5010 - val_accuracy: 0.8782\n",
      "Epoch 12/30\n",
      "114960/114960 [==============================] - 871s 8ms/step - loss: 0.1916 - accuracy: 0.9412 - val_loss: 0.5549 - val_accuracy: 0.8754\n",
      "Epoch 13/30\n",
      "114960/114960 [==============================] - 872s 8ms/step - loss: 0.1834 - accuracy: 0.9434 - val_loss: 0.5434 - val_accuracy: 0.8730\n",
      "Epoch 14/30\n",
      "114960/114960 [==============================] - 871s 8ms/step - loss: 0.1681 - accuracy: 0.9477 - val_loss: 0.5593 - val_accuracy: 0.8732\n",
      "Epoch 15/30\n",
      "114960/114960 [==============================] - 871s 8ms/step - loss: 0.1578 - accuracy: 0.9504 - val_loss: 0.6018 - val_accuracy: 0.8742\n",
      "Epoch 16/30\n",
      "114960/114960 [==============================] - 872s 8ms/step - loss: 0.1505 - accuracy: 0.9525 - val_loss: 0.6167 - val_accuracy: 0.8707\n",
      "Epoch 17/30\n",
      "114960/114960 [==============================] - 914s 8ms/step - loss: 0.1473 - accuracy: 0.9532 - val_loss: 0.6252 - val_accuracy: 0.8742\n",
      "Epoch 18/30\n",
      "114960/114960 [==============================] - 897s 8ms/step - loss: 0.1350 - accuracy: 0.9579 - val_loss: 0.6321 - val_accuracy: 0.8718\n",
      "Epoch 19/30\n",
      "114960/114960 [==============================] - 870s 8ms/step - loss: 0.1321 - accuracy: 0.9589 - val_loss: 0.6308 - val_accuracy: 0.8722\n",
      "Epoch 20/30\n",
      "114960/114960 [==============================] - 870s 8ms/step - loss: 0.1285 - accuracy: 0.9596 - val_loss: 0.6604 - val_accuracy: 0.8746\n",
      "Epoch 21/30\n",
      "114960/114960 [==============================] - 870s 8ms/step - loss: 0.1257 - accuracy: 0.9606 - val_loss: 0.6332 - val_accuracy: 0.8721\n",
      "Epoch 22/30\n",
      "114960/114960 [==============================] - 870s 8ms/step - loss: 0.1159 - accuracy: 0.9635 - val_loss: 0.6560 - val_accuracy: 0.8713\n",
      "Epoch 23/30\n",
      "114960/114960 [==============================] - 871s 8ms/step - loss: 0.1163 - accuracy: 0.9636 - val_loss: 0.6853 - val_accuracy: 0.8750\n",
      "Epoch 24/30\n",
      "114960/114960 [==============================] - 878s 8ms/step - loss: 0.1110 - accuracy: 0.9653 - val_loss: 0.6621 - val_accuracy: 0.8736\n",
      "Epoch 25/30\n",
      "114960/114960 [==============================] - 886s 8ms/step - loss: 0.1108 - accuracy: 0.9653 - val_loss: 0.7159 - val_accuracy: 0.8726\n",
      "Epoch 26/30\n",
      "114960/114960 [==============================] - 883s 8ms/step - loss: 0.1073 - accuracy: 0.9665 - val_loss: 0.6858 - val_accuracy: 0.8723\n",
      "Epoch 27/30\n",
      "114960/114960 [==============================] - 884s 8ms/step - loss: 0.1063 - accuracy: 0.9664 - val_loss: 0.7249 - val_accuracy: 0.8733\n",
      "Epoch 28/30\n",
      "114960/114960 [==============================] - 869s 8ms/step - loss: 0.1042 - accuracy: 0.9676 - val_loss: 0.7274 - val_accuracy: 0.8740\n",
      "Epoch 29/30\n",
      "114960/114960 [==============================] - 869s 8ms/step - loss: 0.1021 - accuracy: 0.9686 - val_loss: 0.7290 - val_accuracy: 0.8722\n",
      "Epoch 30/30\n",
      "114960/114960 [==============================] - 884s 8ms/step - loss: 0.1014 - accuracy: 0.9687 - val_loss: 0.7467 - val_accuracy: 0.8721\n"
     ]
    }
   ],
   "source": [
    "m = model.fit(X_train, Y_train, validation_data=(X_test, Y_test), epochs=30, batch_size=128)"
   ]
  },
  {
   "cell_type": "code",
   "execution_count": null,
   "metadata": {},
   "outputs": [],
   "source": []
  }
 ],
 "metadata": {
  "kernelspec": {
   "display_name": "Python 3",
   "language": "python",
   "name": "python3"
  },
  "language_info": {
   "codemirror_mode": {
    "name": "ipython",
    "version": 3
   },
   "file_extension": ".py",
   "mimetype": "text/x-python",
   "name": "python",
   "nbconvert_exporter": "python",
   "pygments_lexer": "ipython3",
   "version": "3.7.3"
  }
 },
 "nbformat": 4,
 "nbformat_minor": 2
}
